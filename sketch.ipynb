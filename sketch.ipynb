{
 "cells": [
  {
   "cell_type": "code",
   "execution_count": 1,
   "metadata": {},
   "outputs": [
    {
     "name": "stderr",
     "output_type": "stream",
     "text": [
      "/home/paperspace/anaconda3/envs/fastai/lib/python3.6/site-packages/tqdm/autonotebook/__init__.py:14: TqdmExperimentalWarning: Using `tqdm.autonotebook.tqdm` in notebook mode. Use `tqdm.tqdm` instead to force console mode (e.g. in jupyter console)\n",
      "  \" (e.g. in jupyter console)\", TqdmExperimentalWarning)\n"
     ]
    }
   ],
   "source": [
    "import torch\n",
    "import torch.nn as nn\n",
    "import torch.utils as utils\n",
    "import torch.nn.init as init\n",
    "import torch.utils.data as data\n",
    "import torchvision\n",
    "import torchvision.transforms as transforms\n",
    "from torch.autograd import Variable\n",
    "from torch.utils.data import Dataset\n",
    "import torch.nn.functional as F\n",
    "import torchvision.models as models\n",
    "\n",
    "import os\n",
    "import numpy as np\n",
    "import matplotlib.pyplot as plt\n",
    "% matplotlib inline\n",
    "\n",
    "import slack_notification as sn\n",
    "from lr_finder import *"
   ]
  },
  {
   "cell_type": "code",
   "execution_count": 2,
   "metadata": {},
   "outputs": [],
   "source": [
    "class SketchModel(nn.Module):\n",
    "    \"\"\"\n",
    "    https://github.com/HPrinz/sketch-recognition\n",
    "    input size: (225. 225)\n",
    "    \"\"\"\n",
    "    def __init__(self):\n",
    "        super(SketchModel, self).__init__()\n",
    "        self.output_num = 10\n",
    "        self.filer_num = 64\n",
    "        self.act = nn.LeakyReLU(0.2)\n",
    "        self.conv1 = self.conv_block(1, self.filer_num*1, kernel_size=15, stride=3, padding=0, act_fn=self.act)\n",
    "        self.conv2 = self.conv_block(self.filer_num*1, self.filer_num*2, kernel_size=3, stride=1, padding=0, act_fn=self.act)\n",
    "        self.conv3 = self.conv_block(self.filer_num*2, self.filer_num*4, kernel_size=3, stride=1, padding=1, act_fn=self.act)\n",
    "        self.conv4 = self.conv_block(self.filer_num*4, self.filer_num*4, kernel_size=3, stride=1, padding=1, act_fn=self.act)\n",
    "        self.conv5 = self.conv_block(self.filer_num*4, self.filer_num*4, kernel_size=3, stride=1, padding=1, act_fn=self.act)\n",
    "        self.conv6 = self.conv_block(self.filer_num*4, self.filer_num*8, kernel_size=7, stride=1, padding=0, act_fn=self.act)\n",
    "        self.conv7 = self.conv_block(self.filer_num*8, self.filer_num*8, kernel_size=1, stride=1, padding=0, act_fn=self.act)\n",
    "        \n",
    "        self.conv8 = self.conv_block(self.filer_num*8, 50, kernel_size=1, stride=1, padding=0, act_fn=self.act)\n",
    "        self.out = nn.Sequential(\n",
    "            nn.Linear(50, self.output_num),\n",
    "            nn.Sigmoid(),\n",
    "        )\n",
    "        self.pool = nn.MaxPool2d(kernel_size=3, stride=2, padding=0)\n",
    "        self.drop = nn.Dropout2d(p=0.25)\n",
    "        \n",
    "    def forward(self, input):\n",
    "        h = self.pool(self.conv1(input))\n",
    "        h = self.pool(self.conv2(h))\n",
    "        h = self.pool(self.conv5(self.conv4(self.conv3(h))))\n",
    "        h = self.drop(self.conv6(h))\n",
    "        h = self.conv8(self.drop(self.conv7(h)))\n",
    "        h = self.out(self.flatten(h))\n",
    "        return h\n",
    "    \n",
    "    def conv_block(self, in_dim, out_dim, kernel_size, stride, padding, act_fn):\n",
    "        return nn.Sequential(\n",
    "            nn.Conv2d(in_dim, out_dim, kernel_size, stride, padding),\n",
    "            act_fn,\n",
    "        )\n",
    "    \n",
    "    def flatten(self, x):\n",
    "        bs = x.size()[0]\n",
    "        return x.view(bs, -1)"
   ]
  },
  {
   "cell_type": "code",
   "execution_count": 3,
   "metadata": {},
   "outputs": [],
   "source": [
    "#1203_1\n",
    "data_transform = transforms.Compose([\n",
    "    transforms.Grayscale(),\n",
    "    transforms.Resize(225),\n",
    "    transforms.ToTensor(),\n",
    "])\n",
    "\n",
    "#1203_2\n",
    "data_transform_2 = transforms.Compose([\n",
    "    transforms.Grayscale(),\n",
    "    transforms.Resize(250),\n",
    "    transforms.RandomCrop(225),\n",
    "    transforms.ToTensor(),\n",
    "])\n",
    "\n",
    "#1203_3\n",
    "data_transform_3 = transforms.Compose([\n",
    "    transforms.Grayscale(),\n",
    "    transforms.Resize(225),\n",
    "    transforms.RandomHorizontalFlip(),\n",
    "    transforms.ToTensor(),\n",
    "])\n",
    "\n",
    "train_data = torchvision.datasets.ImageFolder(root='./train', transform=data_transform_3)\n",
    "train_data_loader = torch.utils.data.DataLoader(train_data,\n",
    "                                          batch_size=4,\n",
    "                                          shuffle=True,\n",
    "                                          num_workers=4)    \n",
    "test_data = torchvision.datasets.ImageFolder(root='./test', transform=data_transform_3)\n",
    "test_data_loader = torch.utils.data.DataLoader(test_data,\n",
    "                                          batch_size=4,\n",
    "                                          shuffle=True,\n",
    "                                          num_workers=4)    "
   ]
  },
  {
   "cell_type": "code",
   "execution_count": 4,
   "metadata": {},
   "outputs": [],
   "source": [
    "model = SketchModel().cuda()\n",
    "lr = 0.0001\n",
    "optim = torch.optim.Adam(model.parameters(), lr=lr, weight_decay=1e-4)\n",
    "criterion = nn.CrossEntropyLoss().cuda()"
   ]
  },
  {
   "cell_type": "code",
   "execution_count": 6,
   "metadata": {},
   "outputs": [
    {
     "data": {
      "application/vnd.jupyter.widget-view+json": {
       "model_id": "00df4e15c31b43c9add3b15c02cab464",
       "version_major": 2,
       "version_minor": 0
      },
      "text/html": [
       "<p>Failed to display Jupyter Widget of type <code>HBox</code>.</p>\n",
       "<p>\n",
       "  If you're reading this message in the Jupyter Notebook or JupyterLab Notebook, it may mean\n",
       "  that the widgets JavaScript is still loading. If this message persists, it\n",
       "  likely means that the widgets JavaScript library is either not installed or\n",
       "  not enabled. See the <a href=\"https://ipywidgets.readthedocs.io/en/stable/user_install.html\">Jupyter\n",
       "  Widgets Documentation</a> for setup instructions.\n",
       "</p>\n",
       "<p>\n",
       "  If you're reading this message in another frontend (for example, a static\n",
       "  rendering on GitHub or <a href=\"https://nbviewer.jupyter.org/\">NBViewer</a>),\n",
       "  it may mean that your frontend doesn't currently support widgets.\n",
       "</p>\n"
      ],
      "text/plain": [
       "HBox(children=(IntProgress(value=0), HTML(value='')))"
      ]
     },
     "metadata": {},
     "output_type": "display_data"
    },
    {
     "name": "stdout",
     "output_type": "stream",
     "text": [
      "\n",
      "Learning rate search finished. See the graph with {finder_name}.plot()\n"
     ]
    },
    {
     "data": {
      "image/png": "[encoded data removed]",
      "text/plain": [
       "<matplotlib.figure.Figure at 0x7f7561c1b668>"
      ]
     },
     "metadata": {},
     "output_type": "display_data"
    }
   ],
   "source": [
    "model = SketchModel().cuda()\n",
    "optimizer = torch.optim.Adam(model.parameters(), lr=1e-7, weight_decay=1e-4)\n",
    "lr_finder = LRFinder(model, optimizer, criterion, device=\"cuda\")\n",
    "lr_finder.range_test(train_data_loader, end_lr=1e-3, num_iter=100)\n",
    "lr_finder.plot()"
   ]
  },
  {
   "cell_type": "code",
   "execution_count": 11,
   "metadata": {},
   "outputs": [],
   "source": [
    "def loss_plot(train_loss, test_loss, name):\n",
    "    epoch = np.arange(len(train_loss))\n",
    "    plt.clf()\n",
    "    plt.plot(epoch, train_loss, label='train')\n",
    "    plt.plot(epoch, test_loss, label='test')\n",
    "    plt.legend()\n",
    "    plt.ylabel('loss')\n",
    "    plt.xlabel('epoch')\n",
    "    plt.savefig('./models/{}/loss.png'.format(name))\n",
    "    sn.upload_image('./models/{}/loss.png'.format(name))\n",
    "        \n",
    "def train(epoch, name, send=True, init_epoch=0):\n",
    "    \n",
    "    if not os.path.exists('models/' + name):\n",
    "        os.mkdir('models/'+name)\n",
    "    train_loss = np.array([])\n",
    "    test_loss = np.array([])\n",
    "    for i in range(epoch):\n",
    "        \n",
    "        loss_per_epoch = 0\n",
    "        acc = 0\n",
    "        for batch_idx, (imgs, labels) in enumerate(train_data_loader):\n",
    "            model.train()\n",
    "            optim.zero_grad()\n",
    "            imgs = imgs.cuda().float()\n",
    "            labels = labels.cuda().long()\n",
    "            estimated = model.forward(imgs)\n",
    "            loss = criterion(estimated, labels)\n",
    "            loss.backward()\n",
    "            optim.step()\n",
    "            loss_per_epoch += loss.data\n",
    "            acc += torch.sum(labels == torch.argmax(estimated, dim=1)).cpu().numpy()\n",
    "            \n",
    "        train_loss = np.append(train_loss, loss_per_epoch)\n",
    "        print(\"epoch: {}, train_loss: {}\".format(i, train_loss[-1]))\n",
    "        print(\"train_acc: {}\".format(acc/len(train_data)))\n",
    "        if send:\n",
    "            sn.send_notification(\"epoch: {}, train_loss: {}\".format(i, train_loss[-1]))\n",
    "            sn.send_notification(\"train_acc: {}\".format(acc/len(train_data)))\n",
    "    \n",
    "        loss_per_epoch = 0\n",
    "        acc = 0\n",
    "        for batch_idx, (imgs, labels) in enumerate(test_data_loader):\n",
    "            model.eval()\n",
    "            imgs = imgs.cuda().float()\n",
    "            labels = labels.cuda().long()\n",
    "            estimated = model.forward(imgs)\n",
    "            loss = criterion(estimated, labels)\n",
    "            loss_per_epoch += loss.data*len(train_data)/len(test_data)\n",
    "            acc += torch.sum(labels == torch.argmax(estimated, dim=1)).cpu().numpy()\n",
    "            \n",
    "        test_loss = np.append(test_loss, loss_per_epoch)\n",
    "        print(\"epoch: {}, test_loss: {}\".format(i, test_loss[-1]))\n",
    "        print(\"test_acc: {}\".format(acc/len(test_data)))\n",
    "        if send:\n",
    "            sn.send_notification(\"epoch: {}, test_loss: {}\".format(i, test_loss[-1]))\n",
    "            sn.send_notification(\"test_acc: {}\".format(acc/len(test_data)))\n",
    "        loss_plot(train_loss, test_loss, name)\n",
    "        \n",
    "        torch.save(model.state_dict(), './models/{}/epoch_{}.pth'.format(name, i+init_epoch))"
   ]
  },
  {
   "cell_type": "code",
   "execution_count": 10,
   "metadata": {},
   "outputs": [
    {
     "name": "stdout",
     "output_type": "stream",
     "text": [
      "epoch: 0, train_loss: 284.29248046875\n",
      "train_acc: 0.7514285714285714\n",
      "epoch: 0, test_loss: 301.1727294921875\n",
      "test_acc: 0.63\n",
      "epoch: 1, train_loss: 283.7713317871094\n",
      "train_acc: 0.7871428571428571\n",
      "epoch: 1, test_loss: 302.2522888183594\n",
      "test_acc: 0.64\n",
      "epoch: 2, train_loss: 281.135009765625\n",
      "train_acc: 0.77\n",
      "epoch: 2, test_loss: 299.92724609375\n",
      "test_acc: 0.63\n",
      "epoch: 3, train_loss: 282.41876220703125\n",
      "train_acc: 0.7714285714285715\n",
      "epoch: 3, test_loss: 298.1999816894531\n",
      "test_acc: 0.62\n",
      "epoch: 4, train_loss: 280.690673828125\n",
      "train_acc: 0.8014285714285714\n",
      "epoch: 4, test_loss: 301.3729553222656\n",
      "test_acc: 0.62\n",
      "epoch: 5, train_loss: 280.91326904296875\n",
      "train_acc: 0.8114285714285714\n",
      "epoch: 5, test_loss: 303.36114501953125\n",
      "test_acc: 0.63\n",
      "epoch: 6, train_loss: 280.0965576171875\n",
      "train_acc: 0.7914285714285715\n",
      "epoch: 6, test_loss: 302.8660583496094\n",
      "test_acc: 0.65\n",
      "epoch: 7, train_loss: 280.2102966308594\n",
      "train_acc: 0.7957142857142857\n",
      "epoch: 7, test_loss: 301.2847595214844\n",
      "test_acc: 0.6\n",
      "epoch: 8, train_loss: 280.3968200683594\n",
      "train_acc: 0.7857142857142857\n",
      "epoch: 8, test_loss: 299.72186279296875\n",
      "test_acc: 0.66\n",
      "epoch: 9, train_loss: 279.25006103515625\n",
      "train_acc: 0.8057142857142857\n",
      "epoch: 9, test_loss: 302.58526611328125\n",
      "test_acc: 0.68\n",
      "epoch: 10, train_loss: 279.4454040527344\n",
      "train_acc: 0.7942857142857143\n",
      "epoch: 10, test_loss: 302.7508850097656\n",
      "test_acc: 0.65\n",
      "epoch: 11, train_loss: 279.858642578125\n",
      "train_acc: 0.7957142857142857\n",
      "epoch: 11, test_loss: 302.02392578125\n",
      "test_acc: 0.65\n",
      "epoch: 12, train_loss: 278.30047607421875\n",
      "train_acc: 0.8114285714285714\n",
      "epoch: 12, test_loss: 302.6495361328125\n",
      "test_acc: 0.65\n",
      "epoch: 13, train_loss: 279.0445556640625\n",
      "train_acc: 0.8157142857142857\n",
      "epoch: 13, test_loss: 306.3877868652344\n",
      "test_acc: 0.63\n",
      "epoch: 14, train_loss: 278.4005432128906\n",
      "train_acc: 0.81\n",
      "epoch: 14, test_loss: 302.7125549316406\n",
      "test_acc: 0.62\n",
      "epoch: 15, train_loss: 278.06170654296875\n",
      "train_acc: 0.83\n",
      "epoch: 15, test_loss: 305.00018310546875\n",
      "test_acc: 0.64\n",
      "epoch: 16, train_loss: 276.9949951171875\n",
      "train_acc: 0.8171428571428572\n",
      "epoch: 16, test_loss: 301.9741516113281\n",
      "test_acc: 0.65\n",
      "epoch: 17, train_loss: 277.59918212890625\n",
      "train_acc: 0.8271428571428572\n",
      "epoch: 17, test_loss: 299.758056640625\n",
      "test_acc: 0.64\n",
      "epoch: 18, train_loss: 277.0932312011719\n",
      "train_acc: 0.8157142857142857\n",
      "epoch: 18, test_loss: 304.72705078125\n",
      "test_acc: 0.64\n",
      "epoch: 19, train_loss: 277.4933776855469\n",
      "train_acc: 0.8142857142857143\n",
      "epoch: 19, test_loss: 301.5529479980469\n",
      "test_acc: 0.63\n"
     ]
    },
    {
     "data": {
      "image/png": "[encoded data removed]",
      "text/plain": [
       "<matplotlib.figure.Figure at 0x7f208cf81748>"
      ]
     },
     "metadata": {},
     "output_type": "display_data"
    }
   ],
   "source": [
    "train(20, '1203_3', send=True, init_epoch=40)"
   ]
  },
  {
   "cell_type": "code",
   "execution_count": 9,
   "metadata": {},
   "outputs": [],
   "source": [
    "lr = 1e-5\n",
    "optim = torch.optim.Adam(model.parameters(), lr=lr, weight_decay=1e-5)"
   ]
  },
  {
   "cell_type": "code",
   "execution_count": null,
   "metadata": {},
   "outputs": [],
   "source": []
  }
 ],
 "metadata": {
  "kernelspec": {
   "display_name": "Python 3",
   "language": "python",
   "name": "python3"
  },
  "language_info": {
   "codemirror_mode": {
    "name": "ipython",
    "version": 3
   },
   "file_extension": ".py",
   "mimetype": "text/x-python",
   "name": "python",
   "nbconvert_exporter": "python",
   "pygments_lexer": "ipython3",
   "version": "3.6.4"
  }
 },
 "nbformat": 4,
 "nbformat_minor": 2
}
